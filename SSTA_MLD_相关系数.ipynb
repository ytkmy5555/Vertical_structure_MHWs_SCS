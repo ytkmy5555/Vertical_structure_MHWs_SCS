{
 "cells": [
  {
   "cell_type": "code",
   "execution_count": 1,
   "id": "c4aa1cca",
   "metadata": {},
   "outputs": [],
   "source": [
    "import numpy as np"
   ]
  },
  {
   "cell_type": "code",
   "execution_count": 2,
   "id": "38299b8b",
   "metadata": {},
   "outputs": [
    {
     "data": {
      "text/plain": [
       "['lat', 'lon', 'depth', 'temp_clim_anom']"
      ]
     },
     "execution_count": 2,
     "metadata": {},
     "output_type": "execute_result"
    }
   ],
   "source": [
    "data1 = np.load('./temp_diff_clim_93_20_last.npz')\n",
    "data1.files"
   ]
  },
  {
   "cell_type": "code",
   "execution_count": 3,
   "id": "11d3d9a6",
   "metadata": {},
   "outputs": [
    {
     "data": {
      "text/plain": [
       "(10227, 55, 41, 41)"
      ]
     },
     "execution_count": 3,
     "metadata": {},
     "output_type": "execute_result"
    }
   ],
   "source": [
    "temp_clim_anom = data1['temp_clim_anom'][:]\n",
    "temp_clim_anom.shape"
   ]
  },
  {
   "cell_type": "code",
   "execution_count": 4,
   "id": "07acb073",
   "metadata": {},
   "outputs": [
    {
     "data": {
      "text/plain": [
       "(10227, 41, 41)"
      ]
     },
     "execution_count": 4,
     "metadata": {},
     "output_type": "execute_result"
    }
   ],
   "source": [
    "temp_clim_anom_surface = temp_clim_anom[:,0,:,:]\n",
    "temp_clim_anom_surface.shape"
   ]
  },
  {
   "cell_type": "code",
   "execution_count": 5,
   "id": "1436ed6e",
   "metadata": {},
   "outputs": [
    {
     "data": {
      "text/plain": [
       "['lat', 'lon', 'mld']"
      ]
     },
     "execution_count": 5,
     "metadata": {},
     "output_type": "execute_result"
    }
   ],
   "source": [
    "data2 = np.load('./mld_93_20_south_ocean_climate_resolution.npz')\n",
    "data2.files"
   ]
  },
  {
   "cell_type": "code",
   "execution_count": 6,
   "id": "ff43fc6e",
   "metadata": {},
   "outputs": [
    {
     "data": {
      "text/plain": [
       "(10227, 41, 41)"
      ]
     },
     "execution_count": 6,
     "metadata": {},
     "output_type": "execute_result"
    }
   ],
   "source": [
    "mld = data2['mld'][:]\n",
    "mld.shape"
   ]
  },
  {
   "cell_type": "code",
   "execution_count": 13,
   "id": "77d4f178",
   "metadata": {},
   "outputs": [],
   "source": [
    "def rotate_90_degrees(matrix):\n",
    "    n = len(matrix)\n",
    "    result = [[0] * n for _ in range(n)]\n",
    "    \n",
    "    for i in range(n):\n",
    "        for j in range(n):\n",
    "            result[n-j-1][i] = matrix[i][j]\n",
    "    \n",
    "    return result\n",
    "list = []\n",
    "for i in range(10227):\n",
    "    rotated_matrix = rotate_90_degrees(mld[i])\n",
    "    list.append(rotated_matrix)\n",
    "list_array = np.array(list)"
   ]
  },
  {
   "cell_type": "code",
   "execution_count": 17,
   "id": "ef2ed4d1",
   "metadata": {},
   "outputs": [],
   "source": [
    "mld_last = list_array\n",
    "ssta_last = temp_clim_anom_surface"
   ]
  },
  {
   "cell_type": "code",
   "execution_count": 18,
   "id": "04a653ee",
   "metadata": {},
   "outputs": [],
   "source": [
    "mld_last1 = mld_last[0]\n",
    "ssta_last1 = ssta_last[0]"
   ]
  },
  {
   "cell_type": "code",
   "execution_count": 33,
   "id": "bd25f3da",
   "metadata": {},
   "outputs": [
    {
     "name": "stdout",
     "output_type": "stream",
     "text": [
      "Pearson's linear correlation coefficient: -2.0\n",
      "T-test result: 0\n"
     ]
    },
    {
     "name": "stderr",
     "output_type": "stream",
     "text": [
      "C:\\Users\\mymylove\\AppData\\Local\\Temp/ipykernel_52368/3397492882.py:26: RuntimeWarning: invalid value encountered in sqrt\n",
      "  t_r = np.sqrt(n - 2) * np.abs(r) / np.sqrt(1 - r**2)\n"
     ]
    }
   ],
   "source": [
    "import numpy as np\n",
    "from scipy.stats import pearsonr, t\n",
    "from numpy.linalg import norm\n",
    "\n",
    "def corr_sig(x, y, alpha=0.05):\n",
    "    # x and y must have the same length\n",
    "    if len(x) != len(y):\n",
    "        raise ValueError('x and y must have the same length')\n",
    "\n",
    "    # Pearson correlation r\n",
    "    Sxy = np.cov(x, y)[0, 1]\n",
    "    r = Sxy / (np.std(x) * np.std(y))\n",
    "\n",
    "    n = len(x)\n",
    "\n",
    "    # Effective degree of freedom vt\n",
    "    r_lagx = np.correlate(x, x, mode='full')[n-1] / (norm(x)**2)\n",
    "    r_lagy = np.correlate(y, y, mode='full')[n-1] / (norm(y)**2)\n",
    "    vtx = n * (1 - r_lagx**2) / (1 + r_lagx**2)\n",
    "    vty = n * (1 - r_lagy**2) / (1 + r_lagy**2)\n",
    "    vt = (vtx + vty) / 2\n",
    "\n",
    "    tt = int(vt)\n",
    "\n",
    "    # Two-tailed T-test\n",
    "    t_r = np.sqrt(n - 2) * np.abs(r) / np.sqrt(1 - r**2)\n",
    "    t_ref = t.ppf(1 - alpha/2, tt)\n",
    "\n",
    "    if t_r > t_ref:\n",
    "        h = 1\n",
    "    else:\n",
    "        h = 0\n",
    "\n",
    "    return r, h\n",
    "\n",
    "x = np.random.rand(2)\n",
    "y = np.random.rand(2)\n",
    "correlation_coefficient, t_test_result = corr_sig(x, y)\n",
    "print(\"Pearson's linear correlation coefficient:\", correlation_coefficient)\n",
    "print(\"T-test result:\", t_test_result)"
   ]
  },
  {
   "cell_type": "code",
   "execution_count": 27,
   "id": "ce3fd091",
   "metadata": {},
   "outputs": [
    {
     "data": {
      "text/plain": [
       "-0.01650612474052664"
      ]
     },
     "execution_count": 27,
     "metadata": {},
     "output_type": "execute_result"
    }
   ],
   "source": [
    "corr"
   ]
  },
  {
   "cell_type": "code",
   "execution_count": null,
   "id": "49a3a218",
   "metadata": {},
   "outputs": [],
   "source": []
  },
  {
   "cell_type": "code",
   "execution_count": 15,
   "id": "f9d70c85",
   "metadata": {},
   "outputs": [
    {
     "data": {
      "image/png": "[encoded data removed]",
      "text/plain": [
       "<Figure size 432x288 with 1 Axes>"
      ]
     },
     "metadata": {
      "needs_background": "light"
     },
     "output_type": "display_data"
    }
   ],
   "source": [
    "import matplotlib.pyplot as plt\n",
    "import numpy as np\n",
    "import matplotlib.patches as patches\n",
    "\n",
    "data = np.array(list_array[0])\n",
    "data = np.where(data<-100, np.nan, data)\n",
    "plt.imshow(data, cmap='coolwarm_r', interpolation='nearest')\n",
    "\n",
    "plt.show()"
   ]
  },
  {
   "cell_type": "code",
   "execution_count": null,
   "id": "84123744",
   "metadata": {},
   "outputs": [],
   "source": []
  }
 ],
 "metadata": {
  "kernelspec": {
   "display_name": "Python 3 (ipykernel)",
   "language": "python",
   "name": "python3"
  },
  "language_info": {
   "codemirror_mode": {
    "name": "ipython",
    "version": 3
   },
   "file_extension": ".py",
   "mimetype": "text/x-python",
   "name": "python",
   "nbconvert_exporter": "python",
   "pygments_lexer": "ipython3",
   "version": "3.8.18"
  }
 },
 "nbformat": 4,
 "nbformat_minor": 5
}
