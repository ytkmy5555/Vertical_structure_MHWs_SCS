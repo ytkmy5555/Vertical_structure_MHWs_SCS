{
 "cells": [
  {
   "cell_type": "code",
   "execution_count": 1,
   "id": "9e376a16",
   "metadata": {},
   "outputs": [],
   "source": [
    "import numpy as np"
   ]
  },
  {
   "cell_type": "code",
   "execution_count": 2,
   "id": "e9eabab2",
   "metadata": {},
   "outputs": [],
   "source": [
    "import numpy as np\n",
    "\n",
    "def cum_ta(ta, p):\n",
    "    a, b = ta.shape\n",
    "    if a == 1 and b > a:\n",
    "        ta = ta.T\n",
    "\n",
    "    n = len(p)\n",
    "    dp = np.empty(n)\n",
    "    dp[0] = p[0] - 0\n",
    "    dp[1:] = p[1:] - p[:-1]\n",
    "\n",
    "    cta = np.empty(n)\n",
    "    cta[0] = ta[0] * dp[0]\n",
    "    for ip in range(1, n):\n",
    "        cta[ip] = ta[ip] * dp[ip] + cta[ip-1]\n",
    "\n",
    "    return cta"
   ]
  },
  {
   "cell_type": "code",
   "execution_count": 3,
   "id": "d046668e",
   "metadata": {},
   "outputs": [
    {
     "data": {
      "text/plain": [
       "['lat', 'lon', 'depth', 'temp_clim_anom']"
      ]
     },
     "execution_count": 3,
     "metadata": {},
     "output_type": "execute_result"
    }
   ],
   "source": [
    "data1 = np.load('./temp_diff_clim_93_20_last.npz')\n",
    "data1.files"
   ]
  },
  {
   "cell_type": "code",
   "execution_count": 4,
   "id": "82a40245",
   "metadata": {},
   "outputs": [
    {
     "data": {
      "text/plain": [
       "(10227, 55, 41, 41)"
      ]
     },
     "execution_count": 4,
     "metadata": {},
     "output_type": "execute_result"
    }
   ],
   "source": [
    "temp = data1['temp_clim_anom'][:]\n",
    "temp.shape"
   ]
  },
  {
   "cell_type": "code",
   "execution_count": 5,
   "id": "8f7f7c3d",
   "metadata": {},
   "outputs": [],
   "source": [
    "adv = temp"
   ]
  },
  {
   "cell_type": "code",
   "execution_count": 6,
   "id": "d0cebc58",
   "metadata": {},
   "outputs": [],
   "source": [
    "adv1 = adv[1281:1297]\n",
    "adv2 = adv[1743:1750]\n",
    "adv3 = adv[1755:1762]\n",
    "adv4 = adv[1788:1805]\n",
    "adv5 = adv[1819:1851]\n",
    "adv6 = adv[1867:1929]\n",
    "adv7 = adv[1945:1950]\n",
    "adv8 = adv[1955:1971]\n",
    "adv9 = adv[1987:2004]\n",
    "adv10 = adv[2019:2118]\n",
    "adv11 = adv[2133:2150]\n",
    "adv12 = adv[2158:2169]\n",
    "adv13 = adv[2179:2227]\n",
    "adv14 = adv[2267:2279]\n",
    "adv15 = adv[2298:2303]\n",
    "adv16 = adv[2566:2571]\n",
    "adv17 = adv[2668:2683]\n",
    "adv18 = adv[2941:2950]\n",
    "adv19 = adv[2953:2959]\n",
    "adv20 = adv[3000:3008]\n",
    "adv21 = adv[3014:3024]\n",
    "adv22 = adv[3028:3036]\n",
    "adv23 = adv[3039:3053]\n",
    "adv24 = adv[3220:3225]\n",
    "adv25 = adv[3228:3233]\n",
    "adv26 = adv[3418:3428]\n",
    "adv27 = adv[3461:3471]\n",
    "adv28 = adv[3584:3595]\n",
    "adv29 = adv[3604:3609]\n",
    "adv30 = adv[3625:3630]\n",
    "adv31 = adv[3635:3657]\n",
    "adv32 = adv[4517:4522]\n",
    "adv33 = adv[4575:4581]\n",
    "adv34 = adv[4695:4703]\n",
    "adv35 = adv[4873:4879]\n",
    "adv36 = adv[5069:5093]\n",
    "adv37 = adv[5163:5169]\n",
    "adv38 = adv[5266:5292]\n",
    "adv39 = adv[5314:5328]\n",
    "adv40 = adv[5769:5793]\n",
    "adv41 = adv[5898:5903]\n",
    "adv42 = adv[5906:5912]\n",
    "adv43 = adv[5923:5928]\n",
    "adv44 = adv[6240:6254]\n",
    "adv45 = adv[6263:6277]\n",
    "adv46 = adv[6345:6361]\n",
    "adv47 = adv[6370:6413]\n",
    "adv48 = adv[6422:6450]\n",
    "adv49 = adv[6472:6501]\n",
    "adv50 = adv[7002:7008]\n",
    "adv51 = adv[7015:7022]\n",
    "adv52 = adv[7044:7076]\n",
    "adv53 = adv[7264:7305]\n",
    "adv54 = adv[7309:7314]\n",
    "adv55 = adv[7385:7401]\n",
    "adv56 = adv[7432:7477]\n",
    "adv57 = adv[7494:7499]\n",
    "adv58 = adv[7784:7795]\n",
    "adv59 = adv[7799:7835]\n",
    "adv60 = adv[7851:7860]\n",
    "adv61 = adv[7901:7909]\n",
    "adv62 = adv[7912:7917]\n",
    "adv63 = adv[7998:8011]\n",
    "adv64 = adv[8161:8210]\n",
    "adv65 = adv[8243:8253]\n",
    "adv66 = adv[8260:8268]\n",
    "adv67 = adv[8278:8324]\n",
    "adv68 = adv[8342:8431]\n",
    "adv69 = adv[8512:8592]\n",
    "adv70 = adv[8595:8626]\n",
    "adv71 = adv[8636:8648]\n",
    "adv72 = adv[8719:8762]\n",
    "adv73 = adv[8769:8788]\n",
    "adv74 = adv[8893:8900]\n",
    "adv75 = adv[8988:9000]\n",
    "adv76 = adv[9029:9057]\n",
    "adv77 = adv[9086:9108]\n",
    "adv78 = adv[9191:9196]\n",
    "adv79 = adv[9266:9288]\n",
    "adv80 = adv[9465:9514]\n",
    "adv81 = adv[9544:9549]\n",
    "adv82 = adv[9553:9566]\n",
    "adv83 = adv[9591:9618]\n",
    "adv84 = adv[9629:9677]\n",
    "adv85 = adv[9770:9783]\n",
    "adv86 = adv[9789:9807]\n",
    "adv87 = adv[9867:9877]\n",
    "adv88 = adv[9885:9891]\n",
    "adv89 = adv[9940:9957]\n",
    "adv90 = adv[9987:10154]\n",
    "adv91 = adv[10188:10195]\n",
    "adv92 = adv[10210:10215]"
   ]
  },
  {
   "cell_type": "code",
   "execution_count": 7,
   "id": "4bb4ec9e",
   "metadata": {},
   "outputs": [
    {
     "data": {
      "text/plain": [
       "(5, 55, 41, 41)"
      ]
     },
     "execution_count": 7,
     "metadata": {},
     "output_type": "execute_result"
    }
   ],
   "source": [
    "adv92.shape"
   ]
  },
  {
   "cell_type": "code",
   "execution_count": 90,
   "id": "1684a499",
   "metadata": {},
   "outputs": [
    {
     "data": {
      "text/plain": [
       "(55, 1)"
      ]
     },
     "execution_count": 90,
     "metadata": {},
     "output_type": "execute_result"
    }
   ],
   "source": [
    "depth = data1['depth'][:]\n",
    "depth.shape"
   ]
  },
  {
   "cell_type": "code",
   "execution_count": null,
   "id": "1f3d07bc",
   "metadata": {},
   "outputs": [],
   "source": []
  },
  {
   "cell_type": "code",
   "execution_count": 663,
   "id": "ab166d4e",
   "metadata": {
    "scrolled": true
   },
   "outputs": [
    {
     "name": "stderr",
     "output_type": "stream",
     "text": [
      "C:\\Users\\mymylove\\AppData\\Local\\Temp/ipykernel_13960/3954189128.py:11: RuntimeWarning: invalid value encountered in true_divide\n",
      "  diff_cta = cta / p\n"
     ]
    },
    {
     "name": "stdout",
     "output_type": "stream",
     "text": [
      "MHW1类型为Reversed\n",
      "MHW2类型为Reversed\n",
      "MHW3类型为intensified_Reversed\n",
      "MHW4类型为Reversed\n",
      "MHW5类型为Reversed\n",
      "MHW6类型为intensified_Reversed\n",
      "MHW7类型为intensified_Reversed\n",
      "MHW8类型为Reversed\n",
      "MHW9类型为intensified_Reversed\n",
      "MHW10类型为intensified\n",
      "MHW11类型为intensified\n",
      "MHW12类型为intensified\n",
      "MHW13类型为intensified\n",
      "MHW14类型为intensified\n",
      "MHW15类型为sollow\n",
      "MHW16类型为sollow\n",
      "MHW17类型为Reversed\n",
      "MHW18类型为sollow\n",
      "MHW19类型为intensified\n",
      "MHW20类型为intensified\n",
      "MHW21类型为sollow\n",
      "MHW22类型为Reversed\n",
      "MHW23类型为Reversed\n",
      "MHW24类型为intensified\n",
      "MHW25类型为intensified\n",
      "MHW26类型为Reversed\n",
      "MHW27类型为Reversed\n",
      "MHW28类型为intensified_Reversed\n",
      "MHW29类型为Reversed\n",
      "MHW30类型为Reversed\n",
      "MHW31类型为intensified_Reversed\n",
      "MHW32类型为Reversed\n",
      "MHW33类型为Reversed\n",
      "MHW34类型为Reversed\n",
      "MHW35类型为Reversed\n",
      "MHW36类型为Reversed\n",
      "MHW37类型为Reversed\n",
      "MHW38类型为Reversed\n",
      "MHW39类型为Reversed\n",
      "MHW40类型为intensified\n",
      "MHW41类型为sollow\n",
      "MHW42类型为sollow\n",
      "MHW43类型为sollow\n",
      "MHW44类型为Reversed\n",
      "MHW45类型为Reversed\n",
      "MHW46类型为Reversed\n",
      "MHW47类型为intensified\n",
      "MHW48类型为intensified\n",
      "MHW49类型为intensified\n",
      "MHW50类型为sollow\n",
      "MHW51类型为sollow\n",
      "MHW52类型为sollow\n",
      "MHW53类型为intensified\n",
      "MHW54类型为intensified\n",
      "MHW55类型为sollow\n",
      "MHW56类型为intensified\n",
      "MHW57类型为intensified\n",
      "MHW58类型为Reversed\n",
      "MHW59类型为Reversed\n",
      "MHW60类型为Reversed\n",
      "MHW61类型为Reversed\n",
      "MHW62类型为Reversed\n",
      "MHW63类型为intensified_Reversed\n",
      "MHW64类型为Reversed\n",
      "MHW65类型为Reversed\n",
      "MHW66类型为Reversed\n",
      "MHW67类型为Reversed\n",
      "MHW68类型为intensified_Reversed\n",
      "MHW69类型为Reversed\n",
      "MHW70类型为Reversed\n",
      "MHW71类型为Reversed\n",
      "MHW72类型为intensified\n",
      "MHW73类型为intensified\n",
      "MHW74类型为Reversed\n",
      "MHW75类型为deep\n",
      "MHW76类型为intensified\n",
      "MHW77类型为intensified\n",
      "MHW78类型为Reversed\n",
      "MHW79类型为Reversed\n",
      "MHW80类型为intensified\n",
      "MHW81类型为intensified\n",
      "MHW82类型为intensified\n",
      "MHW83类型为sollow\n",
      "MHW84类型为intensified\n",
      "MHW85类型为Reversed\n",
      "MHW86类型为intensified_Reversed\n",
      "MHW87类型为Reversed\n",
      "MHW88类型为Reversed\n",
      "MHW89类型为Reversed\n",
      "MHW90类型为intensified\n",
      "MHW91类型为intensified\n",
      "MHW92类型为intensified\n"
     ]
    }
   ],
   "source": [
    "for i in range(92):\n",
    "    var = \"adv\" + str(i+1)\n",
    "    a = globals()[var]  # Assuming adv1, adv2,... are global variables\n",
    "#     print(a)\n",
    "    ta = np.nanmean(globals()[var], axis = (0,2,3)).reshape(-1,1)\n",
    "    p = depth.reshape(-1,)\n",
    "    cta = cum_ta(ta, p)\n",
    "\n",
    "#     print(\"Cumulative Temperature Anomaly:\")\n",
    "    # print(cta[:25])\n",
    "    diff_cta = cta / p\n",
    "    # print((diff_cta[1:] - diff_cta[:-1])[:25])\n",
    "\n",
    "    max_index = np.argmax(cta)\n",
    "    max_p = p[max_index]\n",
    "\n",
    "#     print(\"Index of max CTA:\", max_index)\n",
    "#     print(\"Max P value:\", max_p)\n",
    "#     print(\"Max CTA value:\", cta[max_index])\n",
    "\n",
    "    if any(cta[:25] < 0):\n",
    "\n",
    "        if ta[0] < np.max(ta):\n",
    "            print(\"MHW{}types : intensified_Reversed\".format(i+1))\n",
    "        else:\n",
    "            print(\"MHW{} types : Reversed\".format(i+1))\n",
    "\n",
    "    else:\n",
    "\n",
    "        if ta[0] < np.max(ta):\n",
    "            print(\"MHW{}types : intensified\".format(i+1))\n",
    "        else:\n",
    "            if cta[max_index] * 0.95 <100:\n",
    "                print(\"MHW{}types : sollow\".format(i+1))\n",
    "            else:\n",
    "                print(\"MHW{}types : deep\".format(i+1))\n",
    "\n"
   ]
  },
  {
   "cell_type": "code",
   "execution_count": null,
   "id": "c78a94fb",
   "metadata": {},
   "outputs": [],
   "source": []
  },
  {
   "cell_type": "code",
   "execution_count": 313,
   "id": "0826c969",
   "metadata": {},
   "outputs": [],
   "source": [
    "f = np.mean(d[3:13])"
   ]
  },
  {
   "cell_type": "code",
   "execution_count": 314,
   "id": "8b4fa284",
   "metadata": {},
   "outputs": [
    {
     "data": {
      "text/plain": [
       "-0.012039517474115562"
      ]
     },
     "execution_count": 314,
     "metadata": {},
     "output_type": "execute_result"
    }
   ],
   "source": [
    "e / f"
   ]
  },
  {
   "cell_type": "code",
   "execution_count": 35,
   "id": "c92ce140",
   "metadata": {},
   "outputs": [
    {
     "data": {
      "text/plain": [
       "['mld']"
      ]
     },
     "execution_count": 35,
     "metadata": {},
     "output_type": "execute_result"
    }
   ],
   "source": [
    "datan = np.load('./outh_93_20_mld_last.npz')\n",
    "datan.files"
   ]
  },
  {
   "cell_type": "code",
   "execution_count": 36,
   "id": "ba7bc58f",
   "metadata": {},
   "outputs": [],
   "source": [
    "mld = datan['mld'][:]"
   ]
  },
  {
   "cell_type": "code",
   "execution_count": 37,
   "id": "0c60a908",
   "metadata": {},
   "outputs": [],
   "source": [
    "mld = np.where(mld<-100, np.nan, mld)"
   ]
  },
  {
   "cell_type": "code",
   "execution_count": 104,
   "id": "90faf079",
   "metadata": {},
   "outputs": [
    {
     "data": {
      "text/plain": [
       "(10, 241, 241)"
      ]
     },
     "execution_count": 104,
     "metadata": {},
     "output_type": "execute_result"
    }
   ],
   "source": [
    "mldn = mld[330:340,:]\n",
    "mldn.shape"
   ]
  },
  {
   "cell_type": "code",
   "execution_count": 105,
   "id": "ec5ef2b6",
   "metadata": {},
   "outputs": [
    {
     "data": {
      "text/plain": [
       "26.441092067628446"
      ]
     },
     "execution_count": 105,
     "metadata": {},
     "output_type": "execute_result"
    }
   ],
   "source": [
    "np.nanmean(mldn)"
   ]
  },
  {
   "cell_type": "code",
   "execution_count": null,
   "id": "ad0de2e0",
   "metadata": {},
   "outputs": [],
   "source": []
  },
  {
   "cell_type": "code",
   "execution_count": 196,
   "id": "9df33c7d",
   "metadata": {},
   "outputs": [
    {
     "data": {
      "text/plain": [
       "61.1764705882353"
      ]
     },
     "execution_count": 196,
     "metadata": {},
     "output_type": "execute_result"
    }
   ],
   "source": [
    "52 / 0.85"
   ]
  },
  {
   "cell_type": "code",
   "execution_count": 197,
   "id": "6267a7a8",
   "metadata": {},
   "outputs": [
    {
     "data": {
      "text/plain": [
       "83.30588235294118"
      ]
     },
     "execution_count": 197,
     "metadata": {},
     "output_type": "execute_result"
    }
   ],
   "source": [
    "70.81 / 0.85"
   ]
  },
  {
   "cell_type": "code",
   "execution_count": 198,
   "id": "2df66bb7",
   "metadata": {},
   "outputs": [
    {
     "data": {
      "text/plain": [
       "98.58823529411765"
      ]
     },
     "execution_count": 198,
     "metadata": {},
     "output_type": "execute_result"
    }
   ],
   "source": [
    "83.8 / 0.85"
   ]
  },
  {
   "cell_type": "code",
   "execution_count": 199,
   "id": "7dd22b0b",
   "metadata": {},
   "outputs": [
    {
     "data": {
      "text/plain": [
       "50.35294117647059"
      ]
     },
     "execution_count": 199,
     "metadata": {},
     "output_type": "execute_result"
    }
   ],
   "source": [
    "42.8 / 0.85"
   ]
  },
  {
   "cell_type": "code",
   "execution_count": 200,
   "id": "9c4c2e0c",
   "metadata": {},
   "outputs": [
    {
     "data": {
      "text/plain": [
       "106.25882352941176"
      ]
     },
     "execution_count": 200,
     "metadata": {},
     "output_type": "execute_result"
    }
   ],
   "source": [
    "90.32 / 0.85"
   ]
  },
  {
   "cell_type": "code",
   "execution_count": 84,
   "id": "c4fa05a9",
   "metadata": {},
   "outputs": [
    {
     "data": {
      "text/plain": [
       "70.4"
      ]
     },
     "execution_count": 84,
     "metadata": {},
     "output_type": "execute_result"
    }
   ],
   "source": [
    "5 * 14.08"
   ]
  },
  {
   "cell_type": "code",
   "execution_count": 85,
   "id": "8d9e259a",
   "metadata": {},
   "outputs": [
    {
     "data": {
      "text/plain": [
       "68.94999999999999"
      ]
     },
     "execution_count": 85,
     "metadata": {},
     "output_type": "execute_result"
    }
   ],
   "source": [
    "5 * 13.79"
   ]
  },
  {
   "cell_type": "code",
   "execution_count": 86,
   "id": "126b2be8",
   "metadata": {},
   "outputs": [
    {
     "data": {
      "text/plain": [
       "60.75"
      ]
     },
     "execution_count": 86,
     "metadata": {},
     "output_type": "execute_result"
    }
   ],
   "source": [
    "12.15 * 5"
   ]
  },
  {
   "cell_type": "code",
   "execution_count": 230,
   "id": "04f2ccfd",
   "metadata": {},
   "outputs": [
    {
     "data": {
      "text/plain": [
       "'\\n1）Shallow      前200m(p=25), Cta全为正\\n2）Reversed    前200m(p=25), Cta存在负\\n3）Intensfied   前200m(p=25), Cta全为正\\n4）Deep          前200m(p=25),  Cta全为正\\n5）Inten_rev    前200m(p=25), Cta均为正，后30，Cta存在负\\n6）inten_Rev    前200m(p=25),Cta存在负；\\n特殊：MHW72  MHW73  MHW90\\n'"
      ]
     },
     "execution_count": 230,
     "metadata": {},
     "output_type": "execute_result"
    }
   ],
   "source": [
    "'''\n",
    "1）Shallow      0 to 200m(p=25), Cta>0，after 30<0\n",
    "2）Reversed    0 to 200m(p=25), ∃ Cta<0\n",
    "3）Intensfied   0 to 200m(p=25), Cta>0\n",
    "4）Deep          0 to 200m(p=25),  Cta >0\n",
    "5）Inten_rev    0 to 200m(p=25), Cta > 0，after 30， ∃ Cta < 0\n",
    "6）inten_Rev    0 to 200m(p=25), ∃ Cta < 0；\n",
    "others：MHW72  MHW73  MHW90\n",
    "'''"
   ]
  }
 ],
 "metadata": {
  "kernelspec": {
   "display_name": "Python 3 (ipykernel)",
   "language": "python",
   "name": "python3"
  },
  "language_info": {
   "codemirror_mode": {
    "name": "ipython",
    "version": 3
   },
   "file_extension": ".py",
   "mimetype": "text/x-python",
   "name": "python",
   "nbconvert_exporter": "python",
   "pygments_lexer": "ipython3",
   "version": "3.8.18"
  }
 },
 "nbformat": 4,
 "nbformat_minor": 5
}
