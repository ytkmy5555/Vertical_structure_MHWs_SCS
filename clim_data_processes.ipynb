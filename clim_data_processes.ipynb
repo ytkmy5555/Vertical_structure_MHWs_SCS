{
 "cells": [
  {
   "cell_type": "code",
   "execution_count": 1,
   "id": "d75afd1b",
   "metadata": {},
   "outputs": [],
   "source": [
    "import numpy as np"
   ]
  },
  {
   "cell_type": "code",
   "execution_count": 2,
   "id": "b91a710d",
   "metadata": {},
   "outputs": [
    {
     "data": {
      "text/plain": [
       "['clim_lat', 'clim_lon', 'clim_depth', 'clim_temp']"
      ]
     },
     "execution_count": 2,
     "metadata": {},
     "output_type": "execute_result"
    }
   ],
   "source": [
    "data1 = np.load('./clim_temp.npz')\n",
    "data1.files"
   ]
  },
  {
   "cell_type": "code",
   "execution_count": 3,
   "id": "dda72260",
   "metadata": {},
   "outputs": [],
   "source": [
    "lat = data1['clim_lat'][:]\n",
    "lon = data1['clim_lon'][:]\n",
    "depth = data1['clim_depth'][:]"
   ]
  },
  {
   "cell_type": "code",
   "execution_count": 4,
   "id": "91e74c8e",
   "metadata": {},
   "outputs": [
    {
     "data": {
      "text/plain": [
       "(41, 41, 55, 366)"
      ]
     },
     "execution_count": 4,
     "metadata": {},
     "output_type": "execute_result"
    }
   ],
   "source": [
    "clim_temp = data1['clim_temp'][:]\n",
    "clim_temp.shape"
   ]
  },
  {
   "cell_type": "code",
   "execution_count": 5,
   "id": "95ec6eee",
   "metadata": {},
   "outputs": [
    {
     "data": {
      "text/plain": [
       "(366, 55, 41, 41)"
      ]
     },
     "execution_count": 5,
     "metadata": {},
     "output_type": "execute_result"
    }
   ],
   "source": [
    "clim_temp_last = np.transpose(clim_temp, (3, 2, 0, 1))\n",
    "clim_temp_last.shape"
   ]
  },
  {
   "cell_type": "code",
   "execution_count": 7,
   "id": "e47c256b",
   "metadata": {},
   "outputs": [
    {
     "data": {
      "text/plain": [
       "['lat', 'lon', 'depth', 'temp', 'sali']"
      ]
     },
     "execution_count": 7,
     "metadata": {},
     "output_type": "execute_result"
    }
   ],
   "source": [
    "data2 = np.load(r'./93_interpolation_temp_sali.npz')\n",
    "data3 = np.load(r'./94_interpolation_temp_sali.npz')\n",
    "data4 = np.load(r'./95_interpolation_temp_sali.npz')\n",
    "data5 = np.load(r'./96_interpolation_temp_sali.npz')\n",
    "data6 = np.load(r'./97_interpolation_temp_sali.npz')\n",
    "data7 = np.load(r'./98_interpolation_temp_sali.npz')\n",
    "data8 = np.load(r'./99_interpolation_temp_sali.npz')\n",
    "data9 = np.load(r'./00_interpolation_temp_sali.npz')\n",
    "data10 = np.load(r'./01_interpolation_temp_sali.npz')\n",
    "data11 = np.load(r'./02_interpolation_temp_sali.npz')\n",
    "data12 = np.load(r'./03_interpolation_temp_sali.npz')\n",
    "data13 = np.load(r'./04_interpolation_temp_sali.npz')\n",
    "data14 = np.load(r'./05_interpolation_temp_sali.npz')\n",
    "data15 = np.load(r'./06_interpolation_temp_sali.npz')\n",
    "data16 = np.load(r'./07_interpolation_temp_sali.npz')\n",
    "data17 = np.load(r'./08_interpolation_temp_sali.npz')\n",
    "data18 = np.load(r'./09_interpolation_temp_sali.npz')\n",
    "data19 = np.load(r'./10_interpolation_temp_sali.npz')\n",
    "data20 = np.load(r'./11_interpolation_temp_sali.npz')\n",
    "data21 = np.load(r'./12_interpolation_temp_sali.npz')\n",
    "data22 = np.load(r'./13_interpolation_temp_sali.npz')\n",
    "data23 = np.load(r'./14_interpolation_temp_sali.npz')\n",
    "data24 = np.load(r'./15_interpolation_temp_sali.npz')\n",
    "data25 = np.load(r'./16_interpolation_temp_sali.npz')\n",
    "data26 = np.load(r'./17_interpolation_temp_sali.npz')\n",
    "data27 = np.load(r'./18_interpolation_temp_sali.npz')\n",
    "data28 = np.load(r'./19_interpolation_temp_sali.npz')\n",
    "data29 = np.load(r'./20_interpolation_temp_sali.npz')\n",
    "data2.files"
   ]
  },
  {
   "cell_type": "code",
   "execution_count": 8,
   "id": "1e771337",
   "metadata": {},
   "outputs": [],
   "source": [
    "temp2 = data2['temp'][:]\n",
    "temp3 = data3['temp'][:]\n",
    "temp4 = data4['temp'][:]\n",
    "temp5 = data5['temp'][:]\n",
    "temp6 = data6['temp'][:]\n",
    "temp7 = data7['temp'][:]\n",
    "temp8 = data8['temp'][:]\n",
    "temp9 = data9['temp'][:]\n",
    "temp10 = data10['temp'][:]\n",
    "temp11 = data11['temp'][:]\n",
    "temp12 = data12['temp'][:]\n",
    "temp13 = data13['temp'][:]\n",
    "temp14 = data14['temp'][:]\n",
    "temp15 = data15['temp'][:]\n",
    "temp16 = data16['temp'][:]\n",
    "temp17 = data17['temp'][:]\n",
    "temp18 = data18['temp'][:]\n",
    "temp19 = data19['temp'][:]\n",
    "temp20 = data20['temp'][:]\n",
    "temp21 = data21['temp'][:]\n",
    "temp22 = data22['temp'][:]\n",
    "temp23 = data23['temp'][:]\n",
    "temp24 = data24['temp'][:]\n",
    "temp25 = data25['temp'][:]\n",
    "temp26 = data26['temp'][:]\n",
    "temp27 = data27['temp'][:]\n",
    "temp28 = data28['temp'][:]\n",
    "temp29 = data29['temp'][:]\n",
    "temp2 = np.where(temp2<-100, np.nan, temp2)\n",
    "temp3 = np.where(temp3<-100, np.nan, temp3)\n",
    "temp4 = np.where(temp4<-100, np.nan, temp4)\n",
    "temp5 = np.where(temp5<-100, np.nan, temp5)\n",
    "temp6 = np.where(temp6<-100, np.nan, temp6)\n",
    "temp7 = np.where(temp7<-100, np.nan, temp7)\n",
    "temp8 = np.where(temp8<-100, np.nan, temp8)\n",
    "temp9 = np.where(temp9<-100, np.nan, temp9)\n",
    "temp10 = np.where(temp10<-100, np.nan, temp10)\n",
    "temp11 = np.where(temp11<-100, np.nan, temp11)\n",
    "temp12 = np.where(temp12<-100, np.nan, temp12)\n",
    "temp13 = np.where(temp13<-100, np.nan, temp13)\n",
    "temp14 = np.where(temp14<-100, np.nan, temp14)\n",
    "temp15 = np.where(temp15<-100, np.nan, temp15)\n",
    "temp16 = np.where(temp16<-100, np.nan, temp16)\n",
    "temp17 = np.where(temp17<-100, np.nan, temp17)\n",
    "temp18 = np.where(temp18<-100, np.nan, temp18)\n",
    "temp19 = np.where(temp19<-100, np.nan, temp19)\n",
    "temp20 = np.where(temp20<-100, np.nan, temp20)\n",
    "temp21 = np.where(temp21<-100, np.nan, temp21)\n",
    "temp22 = np.where(temp22<-100, np.nan, temp22)\n",
    "temp23 = np.where(temp23<-100, np.nan, temp23)\n",
    "temp24 = np.where(temp24<-100, np.nan, temp24)\n",
    "temp25 = np.where(temp25<-100, np.nan, temp25)\n",
    "temp26 = np.where(temp26<-100, np.nan, temp26)\n",
    "temp27 = np.where(temp27<-100, np.nan, temp27)\n",
    "temp28 = np.where(temp28<-100, np.nan, temp28)\n",
    "temp29 = np.where(temp29<-100, np.nan, temp29)"
   ]
  },
  {
   "cell_type": "code",
   "execution_count": 37,
   "id": "e62d257d",
   "metadata": {},
   "outputs": [],
   "source": [
    "temp_diff_clim2 = temp2 - clim_temp_last[:365,:,:,:]\n",
    "temp_diff_clim3 = temp3 - clim_temp_last[:365,:,:,:]\n",
    "temp_diff_clim4 = temp4 - clim_temp_last[:365,:,:,:]\n",
    "temp_diff_clim5 = temp5 - clim_temp_last[:366,:,:,:]\n",
    "temp_diff_clim6 = temp6 - clim_temp_last[:365,:,:,:]\n",
    "temp_diff_clim7 = temp7 - clim_temp_last[:365,:,:,:]\n",
    "temp_diff_clim8 = temp8 - clim_temp_last[:365,:,:,:]\n",
    "temp_diff_clim9 = temp9 - clim_temp_last[:366,:,:,:]\n",
    "temp_diff_clim10 = temp10 - clim_temp_last[:365,:,:,:]\n",
    "temp_diff_clim11 = temp11 - clim_temp_last[:365,:,:,:]\n",
    "temp_diff_clim12 = temp12 - clim_temp_last[:365,:,:,:]\n",
    "temp_diff_clim13 = temp13 - clim_temp_last[:366,:,:,:]\n",
    "temp_diff_clim14 = temp14 - clim_temp_last[:365,:,:,:]\n",
    "temp_diff_clim15 = temp15 - clim_temp_last[:365,:,:,:]\n",
    "temp_diff_clim16 = temp16 - clim_temp_last[:365,:,:,:]\n",
    "temp_diff_clim17 = temp17 - clim_temp_last[:366,:,:,:]\n",
    "temp_diff_clim18 = temp18 - clim_temp_last[:365,:,:,:]\n",
    "temp_diff_clim19 = temp19 - clim_temp_last[:365,:,:,:]\n",
    "temp_diff_clim20 = temp20 - clim_temp_last[:365,:,:,:]\n",
    "temp_diff_clim21 = temp21 - clim_temp_last[:366,:,:,:]\n",
    "temp_diff_clim22 = temp22 - clim_temp_last[:365,:,:,:]\n",
    "temp_diff_clim23 = temp23 - clim_temp_last[:365,:,:,:]\n",
    "temp_diff_clim24 = temp24 - clim_temp_last[:365,:,:,:]\n",
    "temp_diff_clim25 = temp25 - clim_temp_last[:366,:,:,:]\n",
    "temp_diff_clim26 = temp26 - clim_temp_last[:365,:,:,:]\n",
    "temp_diff_clim27 = temp27 - clim_temp_last[:365,:,:,:]\n",
    "temp_diff_clim28 = temp28 - clim_temp_last[:365,:,:,:]\n",
    "temp_diff_clim29 = temp29 - clim_temp_last[:366,:,:,:]"
   ]
  },
  {
   "cell_type": "code",
   "execution_count": 38,
   "id": "516f92ba",
   "metadata": {},
   "outputs": [
    {
     "data": {
      "text/plain": [
       "(366, 55, 41, 41)"
      ]
     },
     "execution_count": 38,
     "metadata": {},
     "output_type": "execute_result"
    }
   ],
   "source": [
    "temp5.shape"
   ]
  },
  {
   "cell_type": "code",
   "execution_count": 39,
   "id": "acf656f5",
   "metadata": {},
   "outputs": [],
   "source": [
    "temp_diff_clim = np.concatenate((temp_diff_clim2, temp_diff_clim3, temp_diff_clim4, temp_diff_clim5,\n",
    "                                temp_diff_clim6, temp_diff_clim7, temp_diff_clim8, temp_diff_clim9, temp_diff_clim10,\n",
    "                                temp_diff_clim11, temp_diff_clim12, temp_diff_clim13, temp_diff_clim14,\n",
    "                                temp_diff_clim15, temp_diff_clim16, temp_diff_clim17, temp_diff_clim18,\n",
    "                                temp_diff_clim19, temp_diff_clim20, temp_diff_clim21, temp_diff_clim22,\n",
    "                                temp_diff_clim23, temp_diff_clim24, temp_diff_clim25, temp_diff_clim26,\n",
    "                                temp_diff_clim27, temp_diff_clim28, temp_diff_clim29))"
   ]
  },
  {
   "cell_type": "code",
   "execution_count": 40,
   "id": "75f99a77",
   "metadata": {},
   "outputs": [
    {
     "data": {
      "text/plain": [
       "(10227, 55, 41, 41)"
      ]
     },
     "execution_count": 40,
     "metadata": {},
     "output_type": "execute_result"
    }
   ],
   "source": [
    "temp_diff_clim.shape"
   ]
  },
  {
   "cell_type": "code",
   "execution_count": 48,
   "id": "07328203",
   "metadata": {},
   "outputs": [],
   "source": [
    "np.savez('./temp_diff_clim_93_20.npz', lat = lat,\n",
    "        lon = lon, depth = depth, temp_clim_anom = temp_diff_clim)"
   ]
  },
  {
   "cell_type": "code",
   "execution_count": 44,
   "id": "b8314d70",
   "metadata": {},
   "outputs": [
    {
     "data": {
      "text/plain": [
       "['lat', 'lon', 'depth', 'temp', 'sali']"
      ]
     },
     "execution_count": 44,
     "metadata": {},
     "output_type": "execute_result"
    }
   ],
   "source": [
    "datan = np.load('./93_20_interpolation_temp_sali.npz')\n",
    "datan.files"
   ]
  },
  {
   "cell_type": "code",
   "execution_count": 45,
   "id": "906cd80a",
   "metadata": {},
   "outputs": [
    {
     "data": {
      "text/plain": [
       "(10227, 55, 41, 41)"
      ]
     },
     "execution_count": 45,
     "metadata": {},
     "output_type": "execute_result"
    }
   ],
   "source": [
    "temp_all = datan['temp'][:]\n",
    "temp_all.shape"
   ]
  },
  {
   "cell_type": "code",
   "execution_count": 46,
   "id": "cfd119f1",
   "metadata": {},
   "outputs": [
    {
     "data": {
      "text/plain": [
       "10227"
      ]
     },
     "execution_count": 46,
     "metadata": {},
     "output_type": "execute_result"
    }
   ],
   "source": [
    "9862+365"
   ]
  },
  {
   "cell_type": "code",
   "execution_count": 2,
   "id": "b788df7c",
   "metadata": {},
   "outputs": [],
   "source": [
    "import numpy as np"
   ]
  },
  {
   "cell_type": "code",
   "execution_count": 26,
   "id": "de6a272a",
   "metadata": {},
   "outputs": [
    {
     "data": {
      "text/plain": [
       "['sali']"
      ]
     },
     "execution_count": 26,
     "metadata": {},
     "output_type": "execute_result"
    }
   ],
   "source": [
    "datan = np.load('./south_93_20_sali_surface.npz')\n",
    "datan.files"
   ]
  },
  {
   "cell_type": "code",
   "execution_count": 27,
   "id": "fa1db7da",
   "metadata": {},
   "outputs": [
    {
     "data": {
      "text/plain": [
       "(10227, 241, 241)"
      ]
     },
     "execution_count": 27,
     "metadata": {},
     "output_type": "execute_result"
    }
   ],
   "source": [
    "temp = datan['sali'][:]\n",
    "temp.shape"
   ]
  },
  {
   "cell_type": "code",
   "execution_count": 22,
   "id": "b000ccd6",
   "metadata": {},
   "outputs": [],
   "source": [
    "temp1 = temp[0]"
   ]
  },
  {
   "cell_type": "code",
   "execution_count": 28,
   "id": "e2bb70e2",
   "metadata": {},
   "outputs": [],
   "source": [
    "list3 = []\n",
    "for z in range (10227):\n",
    "    for i in range(241):\n",
    "        for j in range(241):\n",
    "            list3.append(temp[z, -i-1, j])\n",
    "\n",
    "shallow_adv_mean0 = np.array(list3)\n",
    "shallow_adv_mean0 = shallow_adv_mean0.reshape(10227,241,241)"
   ]
  },
  {
   "cell_type": "code",
   "execution_count": 29,
   "id": "90f2e65f",
   "metadata": {},
   "outputs": [
    {
     "data": {
      "text/plain": [
       "(10227, 241, 241)"
      ]
     },
     "execution_count": 29,
     "metadata": {},
     "output_type": "execute_result"
    }
   ],
   "source": [
    "shallow_adv_mean0.shape"
   ]
  },
  {
   "cell_type": "code",
   "execution_count": 31,
   "id": "6203a31a",
   "metadata": {},
   "outputs": [],
   "source": [
    "np.savez('./south_93_20_sss.npz', sali = shallow_adv_mean0)"
   ]
  },
  {
   "cell_type": "code",
   "execution_count": 30,
   "id": "a23377a8",
   "metadata": {},
   "outputs": [
    {
     "data": {
      "image/png": "[encoded data removed]",
      "text/plain": [
       "<Figure size 640x480 with 1 Axes>"
      ]
     },
     "metadata": {},
     "output_type": "display_data"
    }
   ],
   "source": [
    "import matplotlib.pyplot as plt\n",
    "import numpy as np\n",
    "\n",
    "# Generate random data\n",
    "\n",
    "# Display using imshow\n",
    "plt.imshow(shallow_adv_mean0[0], cmap='viridis')\n",
    "plt.show()"
   ]
  },
  {
   "cell_type": "code",
   "execution_count": null,
   "id": "18e34c18",
   "metadata": {},
   "outputs": [],
   "source": []
  }
 ],
 "metadata": {
  "kernelspec": {
   "display_name": "Python 3 (ipykernel)",
   "language": "python",
   "name": "python3"
  },
  "language_info": {
   "codemirror_mode": {
    "name": "ipython",
    "version": 3
   },
   "file_extension": ".py",
   "mimetype": "text/x-python",
   "name": "python",
   "nbconvert_exporter": "python",
   "pygments_lexer": "ipython3",
   "version": "3.8.18"
  }
 },
 "nbformat": 4,
 "nbformat_minor": 5
}
