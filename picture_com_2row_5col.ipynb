{
 "cells": [
  {
   "cell_type": "code",
   "execution_count": 1,
   "id": "6f95be25",
   "metadata": {},
   "outputs": [],
   "source": [
    "from PIL import Image"
   ]
  },
  {
   "cell_type": "code",
   "execution_count": 2,
   "id": "769d71a9",
   "metadata": {},
   "outputs": [],
   "source": [
    "All_MHW = Image.open('./Number_of_MHWs.png')\n",
    "Shallow_MHW = Image.open('./Shallow_MHW.png')\n",
    "Reversed_MHW = Image.open('./Reversed_MHW.png')\n",
    "Intensified_MHW = Image.open('./Intensified_MHW.png')\n",
    "Deep_MHW = Image.open('./Deep_MHW.png')\n",
    "Intensified_Reversed_MHW = Image.open('./Intensified_Reversed_MHW.png')\n"
   ]
  },
  {
   "cell_type": "code",
   "execution_count": 3,
   "id": "054f8629",
   "metadata": {},
   "outputs": [],
   "source": [
    "All_MHW_depth = Image.open('./Average_MHW_depth.png')\n",
    "Shallow_MHW_depth = Image.open('./Shallow_MHW_depth.png')\n",
    "Reversed_MHW_depth = Image.open('./\\Reversed_MHW_depth.png')\n",
    "Intensified_MHW_depth = Image.open('./\\Intensified_MHW_depth.png')\n",
    "Deep_MHW_depth = Image.open('./\\Deep_MHW_depth.png')\n",
    "Intensified_Reversed_MHW_depth = Image.open('./Intensified_Reversed_MHW_depth.png')\n"
   ]
  },
  {
   "cell_type": "code",
   "execution_count": 6,
   "id": "4384958f",
   "metadata": {},
   "outputs": [],
   "source": [
    "new_image = Image.new('RGB', (All_MHW.width*6 + 50, image1.height*2 + 20), (255, 255, 255))\n"
   ]
  },
  {
   "cell_type": "code",
   "execution_count": 5,
   "id": "8de44cff",
   "metadata": {},
   "outputs": [],
   "source": [
    "image1 = All_MHW"
   ]
  },
  {
   "cell_type": "code",
   "execution_count": 7,
   "id": "e1c6b00f",
   "metadata": {},
   "outputs": [],
   "source": [
    "new_image.paste(All_MHW, (10, 10))\n",
    "new_image.paste(Shallow_MHW, (image1.width + 30, 10))\n",
    "new_image.paste(Reversed_MHW, (10, image1.height + 20))\n",
    "new_image.paste(Intensified_MHW, (image1.width + 30, image1.height + 20))\n",
    "new_image.paste(Deep_MHW, (10, image1.height*2 + 30))\n",
    "new_image.paste(Intensified_Reversed_MHW, (image1.width + 30, image1.height*2 + 30))\n",
    "new_image.paste(All_MHW_depth, (10, image1.height*3 + 40))\n",
    "new_image.paste(Shallow_MHW_depth, (image1.width + 30, image1.height*3 + 40))\n",
    "new_image.paste(Reversed_MHW_depth, (10, image1.height*4 + 50))\n",
    "new_image.paste(Intensified_MHW_depth, (image1.width + 30, image1.height*4 + 50))\n",
    "new_image.paste(Deep_MHW_depth, (10, image1.height*5 + 60))\n",
    "new_image.paste(Intensified_Reversed_MHW_depth, (image1.width + 30, image1.height*5 + 60))"
   ]
  },
  {
   "cell_type": "code",
   "execution_count": 18,
   "id": "97e7d1c7",
   "metadata": {},
   "outputs": [],
   "source": [
    "new_image.save('./merged_image.png')"
   ]
  },
  {
   "cell_type": "code",
   "execution_count": 8,
   "id": "10327963",
   "metadata": {},
   "outputs": [],
   "source": [
    "new_image.paste(All_MHW, (10, 10))\n",
    "new_image.paste(Shallow_MHW, (image1.width + 20, 10))\n",
    "new_image.paste(Reversed_MHW, (image1.width*2 + 30, 10))\n",
    "new_image.paste(Intensified_MHW, (image1.width*3 + 40, 10))\n",
    "new_image.paste(Deep_MHW, (image1.width*4 + 50, 10))\n",
    "new_image.paste(Intensified_Reversed_MHW, (image1.width*5 + 60, 10))\n",
    "new_image.paste(All_MHW_depth, (10, image1.height + 20))\n",
    "new_image.paste(Shallow_MHW_depth, (image1.width + 20, image1.height + 20))\n",
    "new_image.paste(Reversed_MHW_depth, (image1.width*2 + 30, image1.height + 20))\n",
    "new_image.paste(Intensified_MHW_depth, (image1.width*3 + 40, image1.height + 20))\n",
    "new_image.paste(Deep_MHW_depth, (image1.width*4 + 50, image1.height + 20))\n",
    "new_image.paste(Intensified_Reversed_MHW_depth, (image1.width*5 + 60, image1.height + 20))"
   ]
  },
  {
   "cell_type": "code",
   "execution_count": 9,
   "id": "c9e87c01",
   "metadata": {},
   "outputs": [],
   "source": [
    "new_image.save('./merged_image2.png')"
   ]
  },
  {
   "cell_type": "code",
   "execution_count": null,
   "id": "fcf90889",
   "metadata": {},
   "outputs": [],
   "source": []
  }
 ],
 "metadata": {
  "kernelspec": {
   "display_name": "Python 3 (ipykernel)",
   "language": "python",
   "name": "python3"
  },
  "language_info": {
   "codemirror_mode": {
    "name": "ipython",
    "version": 3
   },
   "file_extension": ".py",
   "mimetype": "text/x-python",
   "name": "python",
   "nbconvert_exporter": "python",
   "pygments_lexer": "ipython3",
   "version": "3.8.18"
  }
 },
 "nbformat": 4,
 "nbformat_minor": 5
}
