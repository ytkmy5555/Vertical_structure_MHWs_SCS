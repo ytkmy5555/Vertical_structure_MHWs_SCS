{
 "cells": [
  {
   "cell_type": "code",
   "execution_count": 1,
   "id": "c9e77847",
   "metadata": {},
   "outputs": [],
   "source": [
    "import numpy as np"
   ]
  },
  {
   "cell_type": "code",
   "execution_count": 44,
   "id": "9226d8fe",
   "metadata": {},
   "outputs": [
    {
     "name": "stdout",
     "output_type": "stream",
     "text": [
      "('clim_lat', (41, 1), 'single')\n",
      "('clim_lon', (41, 1), 'single')\n",
      "('depth_semiann', (55, 1), 'single')\n",
      "('salt', (41, 41, 55, 366), 'double')\n"
     ]
    }
   ],
   "source": [
    "from scipy.io import loadmat,whosmat\n",
    "\n",
    "data_info = whosmat('./clim_temp.mat')\n",
    "\n",
    "for variable in data_info:\n",
    "    print(variable)\n",
    "    \n",
    "data = loadmat('./clim_temp.mat')\n",
    "\n",
    "clim_lat = data['clim_lat']\n",
    "clim_lon = data['clim_lon']\n",
    "clim_depth = data['depth_semiann']\n",
    "clim_sali = data['salt']"
   ]
  },
  {
   "cell_type": "code",
   "execution_count": 51,
   "id": "54d75d66",
   "metadata": {},
   "outputs": [
    {
     "data": {
      "text/plain": [
       "array([[   0.],\n",
       "       [   5.],\n",
       "       [  10.],\n",
       "       [  20.],\n",
       "       [  30.],\n",
       "       [  40.],\n",
       "       [  50.],\n",
       "       [  60.],\n",
       "       [  70.],\n",
       "       [  75.],\n",
       "       [  80.],\n",
       "       [  90.],\n",
       "       [ 100.],\n",
       "       [ 110.],\n",
       "       [ 120.],\n",
       "       [ 125.],\n",
       "       [ 130.],\n",
       "       [ 140.],\n",
       "       [ 150.],\n",
       "       [ 160.],\n",
       "       [ 170.],\n",
       "       [ 175.],\n",
       "       [ 180.],\n",
       "       [ 190.],\n",
       "       [ 200.],\n",
       "       [ 210.],\n",
       "       [ 220.],\n",
       "       [ 225.],\n",
       "       [ 230.],\n",
       "       [ 240.],\n",
       "       [ 250.],\n",
       "       [ 260.],\n",
       "       [ 270.],\n",
       "       [ 275.],\n",
       "       [ 280.],\n",
       "       [ 290.],\n",
       "       [ 300.],\n",
       "       [ 325.],\n",
       "       [ 350.],\n",
       "       [ 375.],\n",
       "       [ 400.],\n",
       "       [ 425.],\n",
       "       [ 450.],\n",
       "       [ 475.],\n",
       "       [ 500.],\n",
       "       [ 550.],\n",
       "       [ 600.],\n",
       "       [ 650.],\n",
       "       [ 700.],\n",
       "       [ 750.],\n",
       "       [ 800.],\n",
       "       [ 850.],\n",
       "       [ 900.],\n",
       "       [ 950.],\n",
       "       [1000.]], dtype=float32)"
      ]
     },
     "execution_count": 51,
     "metadata": {},
     "output_type": "execute_result"
    }
   ],
   "source": [
    "clim_depth"
   ]
  },
  {
   "cell_type": "code",
   "execution_count": 24,
   "id": "b0130bea",
   "metadata": {
    "scrolled": true
   },
   "outputs": [],
   "source": [
    "np.savez('./clim_sali.npz', clim_lat = clim_lat, clim_lon = clim_lon,\n",
    "        clim_depth = clim_depth, clim_sali = clim_sali)"
   ]
  },
  {
   "cell_type": "code",
   "execution_count": 1,
   "id": "ef59738c",
   "metadata": {},
   "outputs": [],
   "source": [
    "import numpy as np"
   ]
  },
  {
   "cell_type": "code",
   "execution_count": 25,
   "id": "63da1387",
   "metadata": {},
   "outputs": [
    {
     "data": {
      "text/plain": [
       "['lat', 'lon', 'depth', 'temp', 'sali']"
      ]
     },
     "execution_count": 25,
     "metadata": {},
     "output_type": "execute_result"
    }
   ],
   "source": [
    "data2 = np.load('./93_interpolation_without_deep_temp_sali.npz')\n",
    "data2.files"
   ]
  },
  {
   "cell_type": "code",
   "execution_count": 26,
   "id": "c79e02ef",
   "metadata": {},
   "outputs": [
    {
     "data": {
      "text/plain": [
       "(365, 50, 41, 41)"
      ]
     },
     "execution_count": 26,
     "metadata": {},
     "output_type": "execute_result"
    }
   ],
   "source": [
    "temp_c = data2['temp'][:]\n",
    "temp_c.shape"
   ]
  },
  {
   "cell_type": "code",
   "execution_count": 27,
   "id": "8c493f7a",
   "metadata": {},
   "outputs": [],
   "source": [
    "temp_c_0 = temp_c[0,0,:,:]"
   ]
  },
  {
   "cell_type": "code",
   "execution_count": 5,
   "id": "e2cb6a90",
   "metadata": {},
   "outputs": [],
   "source": [
    "data3 = np.load('./SCS_93_south_ocean.npz')\n",
    "temp_raw = data3['temp'][:] #  (365, 50, 241, 241)"
   ]
  },
  {
   "cell_type": "code",
   "execution_count": 6,
   "id": "65211ae2",
   "metadata": {},
   "outputs": [
    {
     "data": {
      "text/plain": [
       "(365, 50, 241, 241)"
      ]
     },
     "execution_count": 6,
     "metadata": {},
     "output_type": "execute_result"
    }
   ],
   "source": [
    "temp_raw.shape"
   ]
  },
  {
   "cell_type": "code",
   "execution_count": 7,
   "id": "4110f968",
   "metadata": {},
   "outputs": [],
   "source": [
    "temp_raw_0 = temp_raw[0,0,:,:]"
   ]
  },
  {
   "cell_type": "code",
   "execution_count": 28,
   "id": "1735c24d",
   "metadata": {},
   "outputs": [
    {
     "data": {
      "text/plain": [
       "array([[26.21939756, 26.17545091, 26.02896206, ...,         nan,\n",
       "                nan,         nan],\n",
       "       [26.33805352, 26.34464552, 26.04654072, ...,         nan,\n",
       "                nan,         nan],\n",
       "       [26.42741172, 26.44425794, 26.04361095, ...,         nan,\n",
       "                nan,         nan],\n",
       "       ...,\n",
       "       [29.12134159, 29.04223761, 28.8781701 , ..., 24.11947996,\n",
       "        24.10483108, 24.22202215],\n",
       "       [28.85912655, 28.9543443 , 28.30759605, ..., 23.89095736,\n",
       "        23.73714408, 23.99642933],\n",
       "       [27.6410718 , 28.21530808,         nan, ..., 23.15997802,\n",
       "        23.46028016, 23.9561449 ]])"
      ]
     },
     "execution_count": 28,
     "metadata": {},
     "output_type": "execute_result"
    }
   ],
   "source": [
    "temp_c_0 = np.where(temp_c_0<-100, np.nan, temp_c_0)\n",
    "temp_c_0"
   ]
  },
  {
   "cell_type": "code",
   "execution_count": 29,
   "id": "c04550e4",
   "metadata": {},
   "outputs": [
    {
     "data": {
      "text/plain": [
       "array([[26.21939756, 26.24576555, 26.26627399, ..., 28.2504654 ,\n",
       "        27.84762108, 27.6410718 ],\n",
       "       [26.22232734, 26.24356822, 26.26627399, ..., 28.69725638,\n",
       "        28.6562395 , 28.21384319],\n",
       "       [26.19888912, 26.233314  , 26.26114688, ..., 28.46360667,\n",
       "        28.41160313, 28.47972044],\n",
       "       ...,\n",
       "       [        nan,         nan,         nan, ..., 24.08798486,\n",
       "        23.87191381, 23.35407574],\n",
       "       [        nan,         nan,         nan, ..., 24.09237953,\n",
       "        24.03744621, 23.71590319],\n",
       "       [        nan,         nan,         nan, ..., 24.09604175,\n",
       "        24.07553331, 23.9561449 ]])"
      ]
     },
     "execution_count": 29,
     "metadata": {},
     "output_type": "execute_result"
    }
   ],
   "source": [
    "temp_raw_0 = np.where(temp_raw_0<-100, np.nan, temp_raw_0)\n",
    "temp_raw_0"
   ]
  },
  {
   "cell_type": "code",
   "execution_count": null,
   "id": "95dd5616",
   "metadata": {},
   "outputs": [],
   "source": []
  },
  {
   "cell_type": "code",
   "execution_count": null,
   "id": "302dfa45",
   "metadata": {},
   "outputs": [],
   "source": []
  },
  {
   "cell_type": "code",
   "execution_count": 30,
   "id": "eea0ba6a",
   "metadata": {},
   "outputs": [
    {
     "data": {
      "image/png": "[encoded data removed]",
      "text/plain": [
       "<Figure size 432x288 with 1 Axes>"
      ]
     },
     "metadata": {
      "needs_background": "light"
     },
     "output_type": "display_data"
    }
   ],
   "source": [
    "import matplotlib.pyplot as plt\n",
    "import numpy as np\n",
    "\n",
    "# Generate random data\n",
    "\n",
    "# Display using imshow\n",
    "plt.imshow(temp_c_0, cmap='viridis')\n",
    "plt.show()"
   ]
  },
  {
   "cell_type": "code",
   "execution_count": 23,
   "id": "3200c71f",
   "metadata": {},
   "outputs": [
    {
     "data": {
      "image/png": "[encoded data removed]",
      "text/plain": [
       "<Figure size 432x288 with 1 Axes>"
      ]
     },
     "metadata": {
      "needs_background": "light"
     },
     "output_type": "display_data"
    }
   ],
   "source": [
    "import matplotlib.pyplot as plt\n",
    "import numpy as np\n",
    "\n",
    "# Generate random data\n",
    "\n",
    "# Display using imshow\n",
    "plt.imshow(temp_raw_0, cmap='viridis')\n",
    "plt.show()"
   ]
  },
  {
   "cell_type": "code",
   "execution_count": 47,
   "id": "f3e8e4be",
   "metadata": {},
   "outputs": [
    {
     "data": {
      "image/png": "[encoded data removed]",
      "text/plain": [
       "<Figure size 432x288 with 1 Axes>"
      ]
     },
     "metadata": {
      "needs_background": "light"
     },
     "output_type": "display_data"
    }
   ],
   "source": [
    "import matplotlib.pyplot as plt\n",
    "import numpy as np\n",
    "\n",
    "# Generate random data\n",
    "\n",
    "# Display using imshow\n",
    "plt.imshow(clim_sali0, cmap='viridis')\n",
    "plt.show()"
   ]
  },
  {
   "cell_type": "code",
   "execution_count": 45,
   "id": "1ac5b1a4",
   "metadata": {},
   "outputs": [],
   "source": [
    "clim_sali0 = clim_sali[:,:,0,0]"
   ]
  },
  {
   "cell_type": "code",
   "execution_count": 48,
   "id": "40191ac2",
   "metadata": {},
   "outputs": [
    {
     "data": {
      "text/plain": [
       "array([[ 0.28321446,  0.18449386,  0.09912939, ...,         nan,\n",
       "                nan,         nan],\n",
       "       [ 0.10200022, -0.1117244 , -0.07997262, ...,         nan,\n",
       "                nan,         nan],\n",
       "       [-0.06377055, -0.27002409, -0.14084913, ...,         nan,\n",
       "                nan,         nan],\n",
       "       ...,\n",
       "       [-0.58218111, -0.29341234,  0.09686052, ..., -0.03081096,\n",
       "        -0.28862005, -0.47963268],\n",
       "       [-0.30859321, -0.26792485,  0.53498101, ...,  0.19782291,\n",
       "        -0.09717404, -0.56713144],\n",
       "       [ 0.87347175,  0.3548619 ,         nan, ...,  0.86440825,\n",
       "         0.05126601, -0.66556366]])"
      ]
     },
     "execution_count": 48,
     "metadata": {},
     "output_type": "execute_result"
    }
   ],
   "source": [
    "clim_sali0 - temp_c_0"
   ]
  },
  {
   "cell_type": "code",
   "execution_count": 52,
   "id": "2669574e",
   "metadata": {},
   "outputs": [
    {
     "data": {
      "text/plain": [
       "['lat', 'lon', 'depth', 'temp', 'sali']"
      ]
     },
     "execution_count": 52,
     "metadata": {},
     "output_type": "execute_result"
    }
   ],
   "source": [
    "data1 = np.load('./93_interpolation_without_deep_temp_sali.npz')\n",
    "data1.files"
   ]
  },
  {
   "cell_type": "code",
   "execution_count": 53,
   "id": "c45402aa",
   "metadata": {},
   "outputs": [
    {
     "data": {
      "text/plain": [
       "['lat', 'lon', 'depth', 'temp', 'sali']"
      ]
     },
     "execution_count": 53,
     "metadata": {},
     "output_type": "execute_result"
    }
   ],
   "source": [
    "data2 = np.load('./93_interpolation_temp_sali.npz')\n",
    "data2.files"
   ]
  },
  {
   "cell_type": "code",
   "execution_count": 80,
   "id": "4dba2ac1",
   "metadata": {},
   "outputs": [
    {
     "data": {
      "text/plain": [
       "(365, 50, 41, 41)"
      ]
     },
     "execution_count": 80,
     "metadata": {},
     "output_type": "execute_result"
    }
   ],
   "source": [
    "deep1 = data1['depth'][:]\n",
    "temp1 = data1['temp'][:]\n",
    "temp1.shape"
   ]
  },
  {
   "cell_type": "code",
   "execution_count": 77,
   "id": "da2aaf0a",
   "metadata": {},
   "outputs": [
    {
     "data": {
      "text/plain": [
       "(365, 55, 41, 41)"
      ]
     },
     "execution_count": 77,
     "metadata": {},
     "output_type": "execute_result"
    }
   ],
   "source": [
    "deep2 = data2['depth'][:]\n",
    "temp2 = data2['temp'][:]\n",
    "temp2.shape"
   ]
  },
  {
   "cell_type": "code",
   "execution_count": 88,
   "id": "db781356",
   "metadata": {},
   "outputs": [
    {
     "data": {
      "text/plain": [
       "array([[-3.27670000e+04, -3.27670000e+04, -3.27670000e+04, ...,\n",
       "        -3.27670000e+04, -3.27670000e+04, -3.27670000e+04],\n",
       "       [-3.27670000e+04, -3.27670000e+04, -3.27670000e+04, ...,\n",
       "        -3.27670000e+04, -3.27670000e+04, -3.27670000e+04],\n",
       "       [-3.27670000e+04, -3.27670000e+04, -3.27670000e+04, ...,\n",
       "        -3.27670000e+04, -3.27670000e+04, -3.27670000e+04],\n",
       "       ...,\n",
       "       [ 7.50618001e+00,  7.45564136e+00,  7.32746362e+00, ...,\n",
       "         1.34228645e+01, -3.27670000e+04,  1.29160131e+01],\n",
       "       [ 7.46736047e+00,  7.40510271e+00,  7.46223336e+00, ...,\n",
       "         1.34499649e+01, -3.27670000e+04,  1.34675436e+01],\n",
       "       [ 7.39924315e+00,  7.44831692e+00, -3.27670000e+04, ...,\n",
       "         1.33166601e+01,  1.36220893e+01,  1.39612110e+01]])"
      ]
     },
     "execution_count": 88,
     "metadata": {},
     "output_type": "execute_result"
    }
   ],
   "source": [
    "temp1[0,30,:,:]"
   ]
  },
  {
   "cell_type": "code",
   "execution_count": 94,
   "id": "c4910f13",
   "metadata": {},
   "outputs": [
    {
     "data": {
      "text/plain": [
       "array([[-3.27670000e+04, -3.27670000e+04, -3.27670000e+04, ...,\n",
       "        -3.27670000e+04, -3.27670000e+04, -3.27670000e+04],\n",
       "       [-3.27670000e+04, -3.27670000e+04, -3.27670000e+04, ...,\n",
       "        -3.27670000e+04, -3.27670000e+04, -3.27670000e+04],\n",
       "       [-3.27670000e+04, -3.27670000e+04, -3.27670000e+04, ...,\n",
       "        -3.27670000e+04, -3.27670000e+04, -3.27670000e+04],\n",
       "       ...,\n",
       "       [ 1.02722333e+01,  1.07317952e+01,  1.05372523e+01, ...,\n",
       "         1.72433577e+01, -3.27670000e+04,  1.72259963e+01],\n",
       "       [ 1.00458330e+01,  1.03611041e+01,  1.02967317e+01, ...,\n",
       "         1.67339815e+01,  1.71818205e+01,  1.72841908e+01],\n",
       "       [ 1.00926640e+01,  1.04645861e+01, -3.27670000e+04, ...,\n",
       "         1.72083630e+01,  1.76352997e+01,  1.75007006e+01]])"
      ]
     },
     "execution_count": 94,
     "metadata": {},
     "output_type": "execute_result"
    }
   ],
   "source": [
    "temp2[0,36,:,:]"
   ]
  },
  {
   "cell_type": "code",
   "execution_count": 93,
   "id": "96006708",
   "metadata": {},
   "outputs": [
    {
     "data": {
      "text/plain": [
       "array([  0.5,   5. ,  10. ,  20. ,  30. ,  40. ,  50. ,  60. ,  70. ,\n",
       "        75. ,  80. ,  90. , 100. , 110. , 120. , 125. , 130. , 140. ,\n",
       "       150. , 160. , 170. , 175. , 180. , 190. , 200. , 210. , 220. ,\n",
       "       225. , 230. , 240. , 250. , 260. , 270. , 275. , 280. , 290. ])"
      ]
     },
     "execution_count": 93,
     "metadata": {},
     "output_type": "execute_result"
    }
   ],
   "source": [
    "deep2[0:36]"
   ]
  },
  {
   "cell_type": "code",
   "execution_count": 89,
   "id": "c4a30d43",
   "metadata": {},
   "outputs": [
    {
     "data": {
      "text/plain": [
       "array([  0.494025,   1.541375,   2.645669,   3.819495,   5.078224,\n",
       "         6.440614,   7.92956 ,   9.572997,  11.405   ,  13.46714 ,\n",
       "        15.81007 ,  18.49556 ,  21.59882 ,  25.21141 ,  29.44473 ,\n",
       "        34.43415 ,  40.34405 ,  47.37369 ,  55.76429 ,  65.80727 ,\n",
       "        77.85385 ,  92.32607 , 109.7293  , 130.666   , 155.8507  ,\n",
       "       186.1256  , 222.4752  , 266.0403  , 318.1274  , 380.213   ],\n",
       "      dtype=float32)"
      ]
     },
     "execution_count": 89,
     "metadata": {},
     "output_type": "execute_result"
    }
   ],
   "source": [
    "deep1[0:30]"
   ]
  },
  {
   "cell_type": "code",
   "execution_count": null,
   "id": "ae59e90c",
   "metadata": {},
   "outputs": [],
   "source": []
  }
 ],
 "metadata": {
  "kernelspec": {
   "display_name": "Python 3 (ipykernel)",
   "language": "python",
   "name": "python3"
  },
  "language_info": {
   "codemirror_mode": {
    "name": "ipython",
    "version": 3
   },
   "file_extension": ".py",
   "mimetype": "text/x-python",
   "name": "python",
   "nbconvert_exporter": "python",
   "pygments_lexer": "ipython3",
   "version": "3.8.18"
  }
 },
 "nbformat": 4,
 "nbformat_minor": 5
}
